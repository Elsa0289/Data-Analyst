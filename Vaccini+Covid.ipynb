{
 "cells": [
  {
   "cell_type": "code",
   "execution_count": 1,
   "id": "0693403c-76e0-4d0b-bc15-5d433e8327bb",
   "metadata": {
    "tags": []
   },
   "outputs": [],
   "source": [
    "import pandas as pd"
   ]
  },
  {
   "cell_type": "code",
   "execution_count": 2,
   "id": "af5dcda9-c758-417b-a01c-e10a293176b1",
   "metadata": {
    "tags": []
   },
   "outputs": [],
   "source": [
    "file_path= \"C:\\\\Users\\\\utente\\Desktop\\Python\\owid-covid-data.csv\""
   ]
  },
  {
   "cell_type": "code",
   "execution_count": 3,
   "id": "a5149f17-7a77-41c4-95d4-aa42c1271972",
   "metadata": {
    "tags": []
   },
   "outputs": [],
   "source": [
    "esame= pd.read_csv (file_path)"
   ]
  },
  {
   "cell_type": "code",
   "execution_count": 4,
   "id": "be3516b5-a68c-4011-87b6-bc92f1143902",
   "metadata": {
    "tags": []
   },
   "outputs": [
    {
     "data": {
      "text/plain": [
       "pandas.core.frame.DataFrame"
      ]
     },
     "execution_count": 4,
     "metadata": {},
     "output_type": "execute_result"
    }
   ],
   "source": [
    "type (esame)\n"
   ]
  },
  {
   "cell_type": "code",
   "execution_count": 5,
   "id": "be30ffc7-f28b-4f85-9fa4-bf010254f152",
   "metadata": {
    "tags": []
   },
   "outputs": [
    {
     "data": {
      "text/plain": [
       "(378595, 67)"
      ]
     },
     "execution_count": 5,
     "metadata": {},
     "output_type": "execute_result"
    }
   ],
   "source": [
    "esame.shape"
   ]
  },
  {
   "cell_type": "code",
   "execution_count": 6,
   "id": "516bc26b-ae7a-4533-ba09-91f205648d67",
   "metadata": {
    "tags": []
   },
   "outputs": [
    {
     "data": {
      "text/html": [
       "<div>\n",
       "<style scoped>\n",
       "    .dataframe tbody tr th:only-of-type {\n",
       "        vertical-align: middle;\n",
       "    }\n",
       "\n",
       "    .dataframe tbody tr th {\n",
       "        vertical-align: top;\n",
       "    }\n",
       "\n",
       "    .dataframe thead th {\n",
       "        text-align: right;\n",
       "    }\n",
       "</style>\n",
       "<table border=\"1\" class=\"dataframe\">\n",
       "  <thead>\n",
       "    <tr style=\"text-align: right;\">\n",
       "      <th></th>\n",
       "      <th>iso_code</th>\n",
       "      <th>continent</th>\n",
       "      <th>location</th>\n",
       "      <th>date</th>\n",
       "      <th>total_cases</th>\n",
       "      <th>new_cases</th>\n",
       "      <th>new_cases_smoothed</th>\n",
       "      <th>total_deaths</th>\n",
       "      <th>new_deaths</th>\n",
       "      <th>new_deaths_smoothed</th>\n",
       "      <th>...</th>\n",
       "      <th>male_smokers</th>\n",
       "      <th>handwashing_facilities</th>\n",
       "      <th>hospital_beds_per_thousand</th>\n",
       "      <th>life_expectancy</th>\n",
       "      <th>human_development_index</th>\n",
       "      <th>population</th>\n",
       "      <th>excess_mortality_cumulative_absolute</th>\n",
       "      <th>excess_mortality_cumulative</th>\n",
       "      <th>excess_mortality</th>\n",
       "      <th>excess_mortality_cumulative_per_million</th>\n",
       "    </tr>\n",
       "  </thead>\n",
       "  <tbody>\n",
       "    <tr>\n",
       "      <th>0</th>\n",
       "      <td>AFG</td>\n",
       "      <td>Asia</td>\n",
       "      <td>Afghanistan</td>\n",
       "      <td>2020-01-05</td>\n",
       "      <td>NaN</td>\n",
       "      <td>0.0</td>\n",
       "      <td>NaN</td>\n",
       "      <td>NaN</td>\n",
       "      <td>0.0</td>\n",
       "      <td>NaN</td>\n",
       "      <td>...</td>\n",
       "      <td>NaN</td>\n",
       "      <td>37.746</td>\n",
       "      <td>0.5</td>\n",
       "      <td>64.83</td>\n",
       "      <td>0.511</td>\n",
       "      <td>41128772.0</td>\n",
       "      <td>NaN</td>\n",
       "      <td>NaN</td>\n",
       "      <td>NaN</td>\n",
       "      <td>NaN</td>\n",
       "    </tr>\n",
       "    <tr>\n",
       "      <th>1</th>\n",
       "      <td>AFG</td>\n",
       "      <td>Asia</td>\n",
       "      <td>Afghanistan</td>\n",
       "      <td>2020-01-06</td>\n",
       "      <td>NaN</td>\n",
       "      <td>0.0</td>\n",
       "      <td>NaN</td>\n",
       "      <td>NaN</td>\n",
       "      <td>0.0</td>\n",
       "      <td>NaN</td>\n",
       "      <td>...</td>\n",
       "      <td>NaN</td>\n",
       "      <td>37.746</td>\n",
       "      <td>0.5</td>\n",
       "      <td>64.83</td>\n",
       "      <td>0.511</td>\n",
       "      <td>41128772.0</td>\n",
       "      <td>NaN</td>\n",
       "      <td>NaN</td>\n",
       "      <td>NaN</td>\n",
       "      <td>NaN</td>\n",
       "    </tr>\n",
       "    <tr>\n",
       "      <th>2</th>\n",
       "      <td>AFG</td>\n",
       "      <td>Asia</td>\n",
       "      <td>Afghanistan</td>\n",
       "      <td>2020-01-07</td>\n",
       "      <td>NaN</td>\n",
       "      <td>0.0</td>\n",
       "      <td>NaN</td>\n",
       "      <td>NaN</td>\n",
       "      <td>0.0</td>\n",
       "      <td>NaN</td>\n",
       "      <td>...</td>\n",
       "      <td>NaN</td>\n",
       "      <td>37.746</td>\n",
       "      <td>0.5</td>\n",
       "      <td>64.83</td>\n",
       "      <td>0.511</td>\n",
       "      <td>41128772.0</td>\n",
       "      <td>NaN</td>\n",
       "      <td>NaN</td>\n",
       "      <td>NaN</td>\n",
       "      <td>NaN</td>\n",
       "    </tr>\n",
       "    <tr>\n",
       "      <th>3</th>\n",
       "      <td>AFG</td>\n",
       "      <td>Asia</td>\n",
       "      <td>Afghanistan</td>\n",
       "      <td>2020-01-08</td>\n",
       "      <td>NaN</td>\n",
       "      <td>0.0</td>\n",
       "      <td>NaN</td>\n",
       "      <td>NaN</td>\n",
       "      <td>0.0</td>\n",
       "      <td>NaN</td>\n",
       "      <td>...</td>\n",
       "      <td>NaN</td>\n",
       "      <td>37.746</td>\n",
       "      <td>0.5</td>\n",
       "      <td>64.83</td>\n",
       "      <td>0.511</td>\n",
       "      <td>41128772.0</td>\n",
       "      <td>NaN</td>\n",
       "      <td>NaN</td>\n",
       "      <td>NaN</td>\n",
       "      <td>NaN</td>\n",
       "    </tr>\n",
       "    <tr>\n",
       "      <th>4</th>\n",
       "      <td>AFG</td>\n",
       "      <td>Asia</td>\n",
       "      <td>Afghanistan</td>\n",
       "      <td>2020-01-09</td>\n",
       "      <td>NaN</td>\n",
       "      <td>0.0</td>\n",
       "      <td>NaN</td>\n",
       "      <td>NaN</td>\n",
       "      <td>0.0</td>\n",
       "      <td>NaN</td>\n",
       "      <td>...</td>\n",
       "      <td>NaN</td>\n",
       "      <td>37.746</td>\n",
       "      <td>0.5</td>\n",
       "      <td>64.83</td>\n",
       "      <td>0.511</td>\n",
       "      <td>41128772.0</td>\n",
       "      <td>NaN</td>\n",
       "      <td>NaN</td>\n",
       "      <td>NaN</td>\n",
       "      <td>NaN</td>\n",
       "    </tr>\n",
       "  </tbody>\n",
       "</table>\n",
       "<p>5 rows × 67 columns</p>\n",
       "</div>"
      ],
      "text/plain": [
       "  iso_code continent     location        date  total_cases  new_cases  \\\n",
       "0      AFG      Asia  Afghanistan  2020-01-05          NaN        0.0   \n",
       "1      AFG      Asia  Afghanistan  2020-01-06          NaN        0.0   \n",
       "2      AFG      Asia  Afghanistan  2020-01-07          NaN        0.0   \n",
       "3      AFG      Asia  Afghanistan  2020-01-08          NaN        0.0   \n",
       "4      AFG      Asia  Afghanistan  2020-01-09          NaN        0.0   \n",
       "\n",
       "   new_cases_smoothed  total_deaths  new_deaths  new_deaths_smoothed  ...  \\\n",
       "0                 NaN           NaN         0.0                  NaN  ...   \n",
       "1                 NaN           NaN         0.0                  NaN  ...   \n",
       "2                 NaN           NaN         0.0                  NaN  ...   \n",
       "3                 NaN           NaN         0.0                  NaN  ...   \n",
       "4                 NaN           NaN         0.0                  NaN  ...   \n",
       "\n",
       "   male_smokers  handwashing_facilities  hospital_beds_per_thousand  \\\n",
       "0           NaN                  37.746                         0.5   \n",
       "1           NaN                  37.746                         0.5   \n",
       "2           NaN                  37.746                         0.5   \n",
       "3           NaN                  37.746                         0.5   \n",
       "4           NaN                  37.746                         0.5   \n",
       "\n",
       "   life_expectancy  human_development_index  population  \\\n",
       "0            64.83                    0.511  41128772.0   \n",
       "1            64.83                    0.511  41128772.0   \n",
       "2            64.83                    0.511  41128772.0   \n",
       "3            64.83                    0.511  41128772.0   \n",
       "4            64.83                    0.511  41128772.0   \n",
       "\n",
       "   excess_mortality_cumulative_absolute  excess_mortality_cumulative  \\\n",
       "0                                   NaN                          NaN   \n",
       "1                                   NaN                          NaN   \n",
       "2                                   NaN                          NaN   \n",
       "3                                   NaN                          NaN   \n",
       "4                                   NaN                          NaN   \n",
       "\n",
       "   excess_mortality  excess_mortality_cumulative_per_million  \n",
       "0               NaN                                      NaN  \n",
       "1               NaN                                      NaN  \n",
       "2               NaN                                      NaN  \n",
       "3               NaN                                      NaN  \n",
       "4               NaN                                      NaN  \n",
       "\n",
       "[5 rows x 67 columns]"
      ]
     },
     "execution_count": 6,
     "metadata": {},
     "output_type": "execute_result"
    }
   ],
   "source": [
    "esame.head ()"
   ]
  },
  {
   "cell_type": "code",
   "execution_count": 7,
   "id": "14f11c7d-3cd4-4241-a94d-80e53d550549",
   "metadata": {
    "tags": []
   },
   "outputs": [
    {
     "name": "stdout",
     "output_type": "stream",
     "text": [
      "       iso_code continent     location        date  total_cases  new_cases  \\\n",
      "56          AFG      Asia  Afghanistan  2020-03-01          1.0        1.0   \n",
      "57          AFG      Asia  Afghanistan  2020-03-02          1.0        0.0   \n",
      "58          AFG      Asia  Afghanistan  2020-03-03          1.0        0.0   \n",
      "59          AFG      Asia  Afghanistan  2020-03-04          1.0        0.0   \n",
      "60          AFG      Asia  Afghanistan  2020-03-05          1.0        0.0   \n",
      "...         ...       ...          ...         ...          ...        ...   \n",
      "378590      ZWE    Africa     Zimbabwe  2024-02-07     266319.0        0.0   \n",
      "378591      ZWE    Africa     Zimbabwe  2024-02-08     266319.0        0.0   \n",
      "378592      ZWE    Africa     Zimbabwe  2024-02-09     266319.0        0.0   \n",
      "378593      ZWE    Africa     Zimbabwe  2024-02-10     266319.0        0.0   \n",
      "378594      ZWE    Africa     Zimbabwe  2024-02-11     266328.0        9.0   \n",
      "\n",
      "        new_cases_smoothed  total_deaths  new_deaths  new_deaths_smoothed  \\\n",
      "56                   0.143           NaN         0.0                  0.0   \n",
      "57                   0.143           NaN         0.0                  0.0   \n",
      "58                   0.143           NaN         0.0                  0.0   \n",
      "59                   0.143           NaN         0.0                  0.0   \n",
      "60                   0.143           NaN         0.0                  0.0   \n",
      "...                    ...           ...         ...                  ...   \n",
      "378590               4.429        5737.0         0.0                  0.0   \n",
      "378591               4.429        5737.0         0.0                  0.0   \n",
      "378592               4.429        5737.0         0.0                  0.0   \n",
      "378593               4.429        5737.0         0.0                  0.0   \n",
      "378594               1.286        5737.0         0.0                  0.0   \n",
      "\n",
      "        ...  male_smokers  handwashing_facilities  hospital_beds_per_thousand  \\\n",
      "56      ...           NaN                  37.746                         0.5   \n",
      "57      ...           NaN                  37.746                         0.5   \n",
      "58      ...           NaN                  37.746                         0.5   \n",
      "59      ...           NaN                  37.746                         0.5   \n",
      "60      ...           NaN                  37.746                         0.5   \n",
      "...     ...           ...                     ...                         ...   \n",
      "378590  ...          30.7                  36.791                         1.7   \n",
      "378591  ...          30.7                  36.791                         1.7   \n",
      "378592  ...          30.7                  36.791                         1.7   \n",
      "378593  ...          30.7                  36.791                         1.7   \n",
      "378594  ...          30.7                  36.791                         1.7   \n",
      "\n",
      "        life_expectancy  human_development_index  population  \\\n",
      "56                64.83                    0.511  41128772.0   \n",
      "57                64.83                    0.511  41128772.0   \n",
      "58                64.83                    0.511  41128772.0   \n",
      "59                64.83                    0.511  41128772.0   \n",
      "60                64.83                    0.511  41128772.0   \n",
      "...                 ...                      ...         ...   \n",
      "378590            61.49                    0.571  16320539.0   \n",
      "378591            61.49                    0.571  16320539.0   \n",
      "378592            61.49                    0.571  16320539.0   \n",
      "378593            61.49                    0.571  16320539.0   \n",
      "378594            61.49                    0.571  16320539.0   \n",
      "\n",
      "        excess_mortality_cumulative_absolute  excess_mortality_cumulative  \\\n",
      "56                                       NaN                          NaN   \n",
      "57                                       NaN                          NaN   \n",
      "58                                       NaN                          NaN   \n",
      "59                                       NaN                          NaN   \n",
      "60                                       NaN                          NaN   \n",
      "...                                      ...                          ...   \n",
      "378590                                   NaN                          NaN   \n",
      "378591                                   NaN                          NaN   \n",
      "378592                                   NaN                          NaN   \n",
      "378593                                   NaN                          NaN   \n",
      "378594                                   NaN                          NaN   \n",
      "\n",
      "        excess_mortality  excess_mortality_cumulative_per_million  \n",
      "56                   NaN                                      NaN  \n",
      "57                   NaN                                      NaN  \n",
      "58                   NaN                                      NaN  \n",
      "59                   NaN                                      NaN  \n",
      "60                   NaN                                      NaN  \n",
      "...                  ...                                      ...  \n",
      "378590               NaN                                      NaN  \n",
      "378591               NaN                                      NaN  \n",
      "378592               NaN                                      NaN  \n",
      "378593               NaN                                      NaN  \n",
      "378594               NaN                                      NaN  \n",
      "\n",
      "[339793 rows x 67 columns]\n"
     ]
    }
   ],
   "source": [
    "esame_a= esame [esame['total_cases'].notnull()]\n",
    "print (esame_a)"
   ]
  },
  {
   "cell_type": "code",
   "execution_count": 8,
   "id": "08a65cc2-162a-4f5c-998d-628745b343c1",
   "metadata": {
    "tags": []
   },
   "outputs": [
    {
     "name": "stdout",
     "output_type": "stream",
     "text": [
      "continent\n",
      "Africa           1.231687e+10\n",
      "Asia             1.994184e+11\n",
      "Europe           1.925590e+11\n",
      "North America    1.053041e+11\n",
      "Oceania          8.988719e+09\n",
      "South America    6.144397e+10\n",
      "Name: total_cases, dtype: float64\n"
     ]
    }
   ],
   "source": [
    "casi= esame_a.groupby('continent')['total_cases'].sum ()\n",
    "print (casi)"
   ]
  },
  {
   "cell_type": "code",
   "execution_count": 9,
   "id": "4cbe8db7-dbd1-4316-9044-09984ecac9eb",
   "metadata": {
    "tags": []
   },
   "outputs": [
    {
     "name": "stdout",
     "output_type": "stream",
     "text": [
      "2458065772527.0\n"
     ]
    }
   ],
   "source": [
    "casi_totali=esame_a[\"total_cases\"].sum ()\n",
    "print (casi_totali)"
   ]
  },
  {
   "cell_type": "code",
   "execution_count": 10,
   "id": "c7b19a64-6c4a-41e2-9803-72a29d9f1158",
   "metadata": {
    "tags": []
   },
   "outputs": [
    {
     "name": "stdout",
     "output_type": "stream",
     "text": [
      "       iso_code continent  location        date  total_cases  new_cases  \\\n",
      "4553        DZA    Africa   Algeria  2020-03-01          1.0        1.0   \n",
      "4554        DZA    Africa   Algeria  2020-03-02          1.0        0.0   \n",
      "4555        DZA    Africa   Algeria  2020-03-03          1.0        0.0   \n",
      "4556        DZA    Africa   Algeria  2020-03-04          1.0        0.0   \n",
      "4557        DZA    Africa   Algeria  2020-03-05          1.0        0.0   \n",
      "...         ...       ...       ...         ...          ...        ...   \n",
      "378590      ZWE    Africa  Zimbabwe  2024-02-07     266319.0        0.0   \n",
      "378591      ZWE    Africa  Zimbabwe  2024-02-08     266319.0        0.0   \n",
      "378592      ZWE    Africa  Zimbabwe  2024-02-09     266319.0        0.0   \n",
      "378593      ZWE    Africa  Zimbabwe  2024-02-10     266319.0        0.0   \n",
      "378594      ZWE    Africa  Zimbabwe  2024-02-11     266328.0        9.0   \n",
      "\n",
      "        new_cases_smoothed  total_deaths  new_deaths  new_deaths_smoothed  \\\n",
      "4553                 0.143           NaN         0.0                  0.0   \n",
      "4554                 0.143           NaN         0.0                  0.0   \n",
      "4555                 0.143           NaN         0.0                  0.0   \n",
      "4556                 0.143           NaN         0.0                  0.0   \n",
      "4557                 0.143           NaN         0.0                  0.0   \n",
      "...                    ...           ...         ...                  ...   \n",
      "378590               4.429        5737.0         0.0                  0.0   \n",
      "378591               4.429        5737.0         0.0                  0.0   \n",
      "378592               4.429        5737.0         0.0                  0.0   \n",
      "378593               4.429        5737.0         0.0                  0.0   \n",
      "378594               1.286        5737.0         0.0                  0.0   \n",
      "\n",
      "        ...  male_smokers  handwashing_facilities  hospital_beds_per_thousand  \\\n",
      "4553    ...          30.4                  83.741                         1.9   \n",
      "4554    ...          30.4                  83.741                         1.9   \n",
      "4555    ...          30.4                  83.741                         1.9   \n",
      "4556    ...          30.4                  83.741                         1.9   \n",
      "4557    ...          30.4                  83.741                         1.9   \n",
      "...     ...           ...                     ...                         ...   \n",
      "378590  ...          30.7                  36.791                         1.7   \n",
      "378591  ...          30.7                  36.791                         1.7   \n",
      "378592  ...          30.7                  36.791                         1.7   \n",
      "378593  ...          30.7                  36.791                         1.7   \n",
      "378594  ...          30.7                  36.791                         1.7   \n",
      "\n",
      "        life_expectancy  human_development_index  population  \\\n",
      "4553              76.88                    0.748  44903228.0   \n",
      "4554              76.88                    0.748  44903228.0   \n",
      "4555              76.88                    0.748  44903228.0   \n",
      "4556              76.88                    0.748  44903228.0   \n",
      "4557              76.88                    0.748  44903228.0   \n",
      "...                 ...                      ...         ...   \n",
      "378590            61.49                    0.571  16320539.0   \n",
      "378591            61.49                    0.571  16320539.0   \n",
      "378592            61.49                    0.571  16320539.0   \n",
      "378593            61.49                    0.571  16320539.0   \n",
      "378594            61.49                    0.571  16320539.0   \n",
      "\n",
      "        excess_mortality_cumulative_absolute  excess_mortality_cumulative  \\\n",
      "4553                                     NaN                          NaN   \n",
      "4554                                     NaN                          NaN   \n",
      "4555                                     NaN                          NaN   \n",
      "4556                                     NaN                          NaN   \n",
      "4557                                     NaN                          NaN   \n",
      "...                                      ...                          ...   \n",
      "378590                                   NaN                          NaN   \n",
      "378591                                   NaN                          NaN   \n",
      "378592                                   NaN                          NaN   \n",
      "378593                                   NaN                          NaN   \n",
      "378594                                   NaN                          NaN   \n",
      "\n",
      "        excess_mortality  excess_mortality_cumulative_per_million  \n",
      "4553                 NaN                                      NaN  \n",
      "4554                 NaN                                      NaN  \n",
      "4555                 NaN                                      NaN  \n",
      "4556                 NaN                                      NaN  \n",
      "4557                 NaN                                      NaN  \n",
      "...                  ...                                      ...  \n",
      "378590               NaN                                      NaN  \n",
      "378591               NaN                                      NaN  \n",
      "378592               NaN                                      NaN  \n",
      "378593               NaN                                      NaN  \n",
      "378594               NaN                                      NaN  \n",
      "\n",
      "[80235 rows x 67 columns]\n"
     ]
    }
   ],
   "source": [
    "filtro1= esame_a.loc[esame_a [\"continent\"]== \"Africa\"]\n",
    "print (filtro1)"
   ]
  },
  {
   "cell_type": "code",
   "execution_count": 11,
   "id": "808e2751-ca33-40eb-b743-658880484d63",
   "metadata": {
    "tags": []
   },
   "outputs": [
    {
     "name": "stdout",
     "output_type": "stream",
     "text": [
      "       iso_code continent     location        date  total_cases  new_cases  \\\n",
      "56          AFG      Asia  Afghanistan  2020-03-01          1.0        1.0   \n",
      "57          AFG      Asia  Afghanistan  2020-03-02          1.0        0.0   \n",
      "58          AFG      Asia  Afghanistan  2020-03-03          1.0        0.0   \n",
      "59          AFG      Asia  Afghanistan  2020-03-04          1.0        0.0   \n",
      "60          AFG      Asia  Afghanistan  2020-03-05          1.0        0.0   \n",
      "...         ...       ...          ...         ...          ...        ...   \n",
      "375592      YEM      Asia        Yemen  2024-02-07      11945.0        0.0   \n",
      "375593      YEM      Asia        Yemen  2024-02-08      11945.0        0.0   \n",
      "375594      YEM      Asia        Yemen  2024-02-09      11945.0        0.0   \n",
      "375595      YEM      Asia        Yemen  2024-02-10      11945.0        0.0   \n",
      "375596      YEM      Asia        Yemen  2024-02-11      11945.0        0.0   \n",
      "\n",
      "        new_cases_smoothed  total_deaths  new_deaths  new_deaths_smoothed  \\\n",
      "56                   0.143           NaN         0.0                  0.0   \n",
      "57                   0.143           NaN         0.0                  0.0   \n",
      "58                   0.143           NaN         0.0                  0.0   \n",
      "59                   0.143           NaN         0.0                  0.0   \n",
      "60                   0.143           NaN         0.0                  0.0   \n",
      "...                    ...           ...         ...                  ...   \n",
      "375592               0.000        2159.0         0.0                  0.0   \n",
      "375593               0.000        2159.0         0.0                  0.0   \n",
      "375594               0.000        2159.0         0.0                  0.0   \n",
      "375595               0.000        2159.0         0.0                  0.0   \n",
      "375596               0.000        2159.0         0.0                  0.0   \n",
      "\n",
      "        ...  male_smokers  handwashing_facilities  hospital_beds_per_thousand  \\\n",
      "56      ...           NaN                  37.746                         0.5   \n",
      "57      ...           NaN                  37.746                         0.5   \n",
      "58      ...           NaN                  37.746                         0.5   \n",
      "59      ...           NaN                  37.746                         0.5   \n",
      "60      ...           NaN                  37.746                         0.5   \n",
      "...     ...           ...                     ...                         ...   \n",
      "375592  ...          29.2                  49.542                         0.7   \n",
      "375593  ...          29.2                  49.542                         0.7   \n",
      "375594  ...          29.2                  49.542                         0.7   \n",
      "375595  ...          29.2                  49.542                         0.7   \n",
      "375596  ...          29.2                  49.542                         0.7   \n",
      "\n",
      "        life_expectancy  human_development_index  population  \\\n",
      "56                64.83                    0.511  41128772.0   \n",
      "57                64.83                    0.511  41128772.0   \n",
      "58                64.83                    0.511  41128772.0   \n",
      "59                64.83                    0.511  41128772.0   \n",
      "60                64.83                    0.511  41128772.0   \n",
      "...                 ...                      ...         ...   \n",
      "375592            66.12                    0.470  33696612.0   \n",
      "375593            66.12                    0.470  33696612.0   \n",
      "375594            66.12                    0.470  33696612.0   \n",
      "375595            66.12                    0.470  33696612.0   \n",
      "375596            66.12                    0.470  33696612.0   \n",
      "\n",
      "        excess_mortality_cumulative_absolute  excess_mortality_cumulative  \\\n",
      "56                                       NaN                          NaN   \n",
      "57                                       NaN                          NaN   \n",
      "58                                       NaN                          NaN   \n",
      "59                                       NaN                          NaN   \n",
      "60                                       NaN                          NaN   \n",
      "...                                      ...                          ...   \n",
      "375592                                   NaN                          NaN   \n",
      "375593                                   NaN                          NaN   \n",
      "375594                                   NaN                          NaN   \n",
      "375595                                   NaN                          NaN   \n",
      "375596                                   NaN                          NaN   \n",
      "\n",
      "        excess_mortality  excess_mortality_cumulative_per_million  \n",
      "56                   NaN                                      NaN  \n",
      "57                   NaN                                      NaN  \n",
      "58                   NaN                                      NaN  \n",
      "59                   NaN                                      NaN  \n",
      "60                   NaN                                      NaN  \n",
      "...                  ...                                      ...  \n",
      "375592               NaN                                      NaN  \n",
      "375593               NaN                                      NaN  \n",
      "375594               NaN                                      NaN  \n",
      "375595               NaN                                      NaN  \n",
      "375596               NaN                                      NaN  \n",
      "\n",
      "[64389 rows x 67 columns]\n"
     ]
    }
   ],
   "source": [
    "filtro2= esame_a.loc[esame_a [\"continent\"]== \"Asia\"]\n",
    "print (filtro2)"
   ]
  },
  {
   "cell_type": "code",
   "execution_count": 12,
   "id": "17855f1e-2d92-4935-b51a-af7828f9948e",
   "metadata": {
    "tags": []
   },
   "outputs": [
    {
     "name": "stdout",
     "output_type": "stream",
     "text": [
      "count    8.023500e+04\n",
      "mean     1.535099e+05\n",
      "std      4.506558e+05\n",
      "min      1.000000e+00\n",
      "25%      7.930000e+03\n",
      "50%      3.184400e+04\n",
      "75%      1.075550e+05\n",
      "max      4.072636e+06\n",
      "Name: total_cases, dtype: float64\n"
     ]
    }
   ],
   "source": [
    "casi_Africa=filtro1 [\"total_cases\"].describe ()\n",
    "print (casi_Africa)"
   ]
  },
  {
   "cell_type": "code",
   "execution_count": 13,
   "id": "d268bd0c-f048-43b4-903d-12270f24c386",
   "metadata": {
    "tags": []
   },
   "outputs": [
    {
     "name": "stdout",
     "output_type": "stream",
     "text": [
      "count    6.438900e+04\n",
      "mean     3.097089e+06\n",
      "std      1.025596e+07\n",
      "min      1.000000e+00\n",
      "25%      5.742300e+04\n",
      "50%      3.985850e+05\n",
      "75%      1.492221e+06\n",
      "max      9.933052e+07\n",
      "Name: total_cases, dtype: float64\n"
     ]
    }
   ],
   "source": [
    "casi_Asia=filtro2 [\"total_cases\"].describe ()\n",
    "print (casi_Asia)"
   ]
  },
  {
   "cell_type": "code",
   "execution_count": 14,
   "id": "8a83d2ca-d6a4-4bea-ae1d-c32cb53e14cb",
   "metadata": {
    "tags": []
   },
   "outputs": [
    {
     "name": "stdout",
     "output_type": "stream",
     "text": [
      "6.245150799264689e-06\n"
     ]
    }
   ],
   "source": [
    "Africa_confronto= casi_Africa ['mean']/casi_totali *100\n",
    "print (Africa_confronto)"
   ]
  },
  {
   "cell_type": "code",
   "execution_count": 15,
   "id": "a7c2be94-547b-471f-bf78-9ef362ba211e",
   "metadata": {},
   "outputs": [
    {
     "name": "stdout",
     "output_type": "stream",
     "text": [
      "0.0001259969751666029\n"
     ]
    }
   ],
   "source": [
    "Asia_confronto= casi_Asia ['mean']/casi_totali *100\n",
    "print (Asia_confronto)"
   ]
  },
  {
   "cell_type": "code",
   "execution_count": 24,
   "id": "264bdc1d-bfbf-4dcd-a6a7-1fda9b4d183c",
   "metadata": {
    "tags": []
   },
   "outputs": [],
   "source": [
    "file_path2= \"C:\\\\Users\\\\utente\\Desktop\\Python/Vaccini.csv\""
   ]
  },
  {
   "cell_type": "code",
   "execution_count": 25,
   "id": "1f00b12c-72c8-4e3e-8bb2-961abdafbb13",
   "metadata": {
    "tags": []
   },
   "outputs": [],
   "source": [
    "vaccini= pd.read_csv (file_path2)"
   ]
  },
  {
   "cell_type": "code",
   "execution_count": 26,
   "id": "e7ff1c3d-7408-4b75-9188-5112721db21b",
   "metadata": {
    "tags": []
   },
   "outputs": [
    {
     "data": {
      "text/html": [
       "<div>\n",
       "<style scoped>\n",
       "    .dataframe tbody tr th:only-of-type {\n",
       "        vertical-align: middle;\n",
       "    }\n",
       "\n",
       "    .dataframe tbody tr th {\n",
       "        vertical-align: top;\n",
       "    }\n",
       "\n",
       "    .dataframe thead th {\n",
       "        text-align: right;\n",
       "    }\n",
       "</style>\n",
       "<table border=\"1\" class=\"dataframe\">\n",
       "  <thead>\n",
       "    <tr style=\"text-align: right;\">\n",
       "      <th></th>\n",
       "      <th>location</th>\n",
       "      <th>iso_code</th>\n",
       "      <th>date</th>\n",
       "      <th>total_vaccinations</th>\n",
       "      <th>people_vaccinated</th>\n",
       "      <th>people_fully_vaccinated</th>\n",
       "      <th>total_boosters</th>\n",
       "      <th>daily_vaccinations_raw</th>\n",
       "      <th>daily_vaccinations</th>\n",
       "      <th>total_vaccinations_per_hundred</th>\n",
       "      <th>people_vaccinated_per_hundred</th>\n",
       "      <th>people_fully_vaccinated_per_hundred</th>\n",
       "      <th>total_boosters_per_hundred</th>\n",
       "      <th>daily_vaccinations_per_million</th>\n",
       "      <th>daily_people_vaccinated</th>\n",
       "      <th>daily_people_vaccinated_per_hundred</th>\n",
       "    </tr>\n",
       "  </thead>\n",
       "  <tbody>\n",
       "    <tr>\n",
       "      <th>0</th>\n",
       "      <td>Afghanistan</td>\n",
       "      <td>AFG</td>\n",
       "      <td>2021-02-22</td>\n",
       "      <td>0.0</td>\n",
       "      <td>0.0</td>\n",
       "      <td>NaN</td>\n",
       "      <td>NaN</td>\n",
       "      <td>NaN</td>\n",
       "      <td>NaN</td>\n",
       "      <td>0.0</td>\n",
       "      <td>0.0</td>\n",
       "      <td>NaN</td>\n",
       "      <td>NaN</td>\n",
       "      <td>NaN</td>\n",
       "      <td>NaN</td>\n",
       "      <td>NaN</td>\n",
       "    </tr>\n",
       "    <tr>\n",
       "      <th>1</th>\n",
       "      <td>Afghanistan</td>\n",
       "      <td>AFG</td>\n",
       "      <td>2021-02-23</td>\n",
       "      <td>NaN</td>\n",
       "      <td>NaN</td>\n",
       "      <td>NaN</td>\n",
       "      <td>NaN</td>\n",
       "      <td>NaN</td>\n",
       "      <td>1367.0</td>\n",
       "      <td>NaN</td>\n",
       "      <td>NaN</td>\n",
       "      <td>NaN</td>\n",
       "      <td>NaN</td>\n",
       "      <td>33.0</td>\n",
       "      <td>1367.0</td>\n",
       "      <td>0.003</td>\n",
       "    </tr>\n",
       "    <tr>\n",
       "      <th>2</th>\n",
       "      <td>Afghanistan</td>\n",
       "      <td>AFG</td>\n",
       "      <td>2021-02-24</td>\n",
       "      <td>NaN</td>\n",
       "      <td>NaN</td>\n",
       "      <td>NaN</td>\n",
       "      <td>NaN</td>\n",
       "      <td>NaN</td>\n",
       "      <td>1367.0</td>\n",
       "      <td>NaN</td>\n",
       "      <td>NaN</td>\n",
       "      <td>NaN</td>\n",
       "      <td>NaN</td>\n",
       "      <td>33.0</td>\n",
       "      <td>1367.0</td>\n",
       "      <td>0.003</td>\n",
       "    </tr>\n",
       "    <tr>\n",
       "      <th>3</th>\n",
       "      <td>Afghanistan</td>\n",
       "      <td>AFG</td>\n",
       "      <td>2021-02-25</td>\n",
       "      <td>NaN</td>\n",
       "      <td>NaN</td>\n",
       "      <td>NaN</td>\n",
       "      <td>NaN</td>\n",
       "      <td>NaN</td>\n",
       "      <td>1367.0</td>\n",
       "      <td>NaN</td>\n",
       "      <td>NaN</td>\n",
       "      <td>NaN</td>\n",
       "      <td>NaN</td>\n",
       "      <td>33.0</td>\n",
       "      <td>1367.0</td>\n",
       "      <td>0.003</td>\n",
       "    </tr>\n",
       "    <tr>\n",
       "      <th>4</th>\n",
       "      <td>Afghanistan</td>\n",
       "      <td>AFG</td>\n",
       "      <td>2021-02-26</td>\n",
       "      <td>NaN</td>\n",
       "      <td>NaN</td>\n",
       "      <td>NaN</td>\n",
       "      <td>NaN</td>\n",
       "      <td>NaN</td>\n",
       "      <td>1367.0</td>\n",
       "      <td>NaN</td>\n",
       "      <td>NaN</td>\n",
       "      <td>NaN</td>\n",
       "      <td>NaN</td>\n",
       "      <td>33.0</td>\n",
       "      <td>1367.0</td>\n",
       "      <td>0.003</td>\n",
       "    </tr>\n",
       "  </tbody>\n",
       "</table>\n",
       "</div>"
      ],
      "text/plain": [
       "      location iso_code        date  total_vaccinations  people_vaccinated  \\\n",
       "0  Afghanistan      AFG  2021-02-22                 0.0                0.0   \n",
       "1  Afghanistan      AFG  2021-02-23                 NaN                NaN   \n",
       "2  Afghanistan      AFG  2021-02-24                 NaN                NaN   \n",
       "3  Afghanistan      AFG  2021-02-25                 NaN                NaN   \n",
       "4  Afghanistan      AFG  2021-02-26                 NaN                NaN   \n",
       "\n",
       "   people_fully_vaccinated  total_boosters  daily_vaccinations_raw  \\\n",
       "0                      NaN             NaN                     NaN   \n",
       "1                      NaN             NaN                     NaN   \n",
       "2                      NaN             NaN                     NaN   \n",
       "3                      NaN             NaN                     NaN   \n",
       "4                      NaN             NaN                     NaN   \n",
       "\n",
       "   daily_vaccinations  total_vaccinations_per_hundred  \\\n",
       "0                 NaN                             0.0   \n",
       "1              1367.0                             NaN   \n",
       "2              1367.0                             NaN   \n",
       "3              1367.0                             NaN   \n",
       "4              1367.0                             NaN   \n",
       "\n",
       "   people_vaccinated_per_hundred  people_fully_vaccinated_per_hundred  \\\n",
       "0                            0.0                                  NaN   \n",
       "1                            NaN                                  NaN   \n",
       "2                            NaN                                  NaN   \n",
       "3                            NaN                                  NaN   \n",
       "4                            NaN                                  NaN   \n",
       "\n",
       "   total_boosters_per_hundred  daily_vaccinations_per_million  \\\n",
       "0                         NaN                             NaN   \n",
       "1                         NaN                            33.0   \n",
       "2                         NaN                            33.0   \n",
       "3                         NaN                            33.0   \n",
       "4                         NaN                            33.0   \n",
       "\n",
       "   daily_people_vaccinated  daily_people_vaccinated_per_hundred  \n",
       "0                      NaN                                  NaN  \n",
       "1                   1367.0                                0.003  \n",
       "2                   1367.0                                0.003  \n",
       "3                   1367.0                                0.003  \n",
       "4                   1367.0                                0.003  "
      ]
     },
     "execution_count": 26,
     "metadata": {},
     "output_type": "execute_result"
    }
   ],
   "source": [
    "vaccini. head ()"
   ]
  },
  {
   "cell_type": "code",
   "execution_count": 27,
   "id": "84ab78e1-5d99-4653-83b1-9871e0aaa54a",
   "metadata": {
    "tags": []
   },
   "outputs": [
    {
     "name": "stdout",
     "output_type": "stream",
     "text": [
      "location\n",
      "Afghanistan          1.659147e+09\n",
      "Africa               4.915181e+11\n",
      "Albania              3.953643e+08\n",
      "Algeria              2.983973e+08\n",
      "Andorra              5.846260e+06\n",
      "                         ...     \n",
      "Wallis and Futuna    4.837050e+05\n",
      "World                1.136353e+13\n",
      "Yemen                3.623523e+07\n",
      "Zambia               6.325326e+08\n",
      "Zimbabwe             3.211422e+09\n",
      "Name: total_vaccinations, Length: 235, dtype: float64\n"
     ]
    }
   ],
   "source": [
    "paesi= vaccini.groupby('location')['total_vaccinations'].sum ()\n",
    "print (paesi)"
   ]
  },
  {
   "cell_type": "code",
   "execution_count": 38,
   "id": "0a727847-a69f-4d67-a214-fadccd0d6856",
   "metadata": {},
   "outputs": [
    {
     "name": "stdout",
     "output_type": "stream",
     "text": [
      "             location  iso_code        date  total_vaccinations  \\\n",
      "57579  European Union  OWID_EUN  2020-12-04                 1.0   \n",
      "57580  European Union  OWID_EUN  2020-12-05                 1.0   \n",
      "57581  European Union  OWID_EUN  2020-12-06                 1.0   \n",
      "57582  European Union  OWID_EUN  2020-12-07                 2.0   \n",
      "57583  European Union  OWID_EUN  2020-12-08                 2.0   \n",
      "...               ...       ...         ...                 ...   \n",
      "58756  European Union  OWID_EUN  2024-02-24         951049393.0   \n",
      "58757  European Union  OWID_EUN  2024-02-25         951049394.0   \n",
      "58758  European Union  OWID_EUN  2024-02-26         951049763.0   \n",
      "58759  European Union  OWID_EUN  2024-02-27         951050285.0   \n",
      "58760  European Union  OWID_EUN  2024-02-28         951050379.0   \n",
      "\n",
      "       people_vaccinated  people_fully_vaccinated  total_boosters  \\\n",
      "57579                1.0                      NaN             NaN   \n",
      "57580                1.0                      NaN             NaN   \n",
      "57581                1.0                      NaN             NaN   \n",
      "57582                2.0                      NaN             NaN   \n",
      "57583                2.0                      NaN             NaN   \n",
      "...                  ...                      ...             ...   \n",
      "58756        338069612.0              327966727.0     282392258.0   \n",
      "58757        338069612.0              327966727.0     282392258.0   \n",
      "58758        338069620.0              327966729.0     282392606.0   \n",
      "58759        338069628.0              327966735.0     282393103.0   \n",
      "58760        338069631.0              327966735.0     282393184.0   \n",
      "\n",
      "       daily_vaccinations_raw  daily_vaccinations  \\\n",
      "57579                     0.0                 0.0   \n",
      "57580                     0.0                 0.0   \n",
      "57581                     0.0                 0.0   \n",
      "57582                     0.0                 0.0   \n",
      "57583                     0.0                 0.0   \n",
      "...                       ...                 ...   \n",
      "58756                     NaN                 NaN   \n",
      "58757                     NaN                 NaN   \n",
      "58758                     NaN                 NaN   \n",
      "58759                     NaN                 NaN   \n",
      "58760                     NaN                 NaN   \n",
      "\n",
      "       total_vaccinations_per_hundred  people_vaccinated_per_hundred  \\\n",
      "57579                            0.00                            0.0   \n",
      "57580                            0.00                            0.0   \n",
      "57581                            0.00                            0.0   \n",
      "57582                            0.00                            0.0   \n",
      "57583                            0.00                            0.0   \n",
      "...                               ...                            ...   \n",
      "58756                          211.28                           75.1   \n",
      "58757                          211.28                           75.1   \n",
      "58758                          211.28                           75.1   \n",
      "58759                          211.28                           75.1   \n",
      "58760                          211.28                           75.1   \n",
      "\n",
      "       people_fully_vaccinated_per_hundred  total_boosters_per_hundred  \\\n",
      "57579                                  NaN                         NaN   \n",
      "57580                                  NaN                         NaN   \n",
      "57581                                  NaN                         NaN   \n",
      "57582                                  NaN                         NaN   \n",
      "57583                                  NaN                         NaN   \n",
      "...                                    ...                         ...   \n",
      "58756                                72.86                       62.73   \n",
      "58757                                72.86                       62.73   \n",
      "58758                                72.86                       62.73   \n",
      "58759                                72.86                       62.73   \n",
      "58760                                72.86                       62.73   \n",
      "\n",
      "       daily_vaccinations_per_million  daily_people_vaccinated  \\\n",
      "57579                             0.0                      0.0   \n",
      "57580                             0.0                      0.0   \n",
      "57581                             0.0                      0.0   \n",
      "57582                             0.0                      0.0   \n",
      "57583                             0.0                      0.0   \n",
      "...                               ...                      ...   \n",
      "58756                             NaN                      NaN   \n",
      "58757                             NaN                      NaN   \n",
      "58758                             NaN                      NaN   \n",
      "58759                             NaN                      NaN   \n",
      "58760                             NaN                      NaN   \n",
      "\n",
      "       daily_people_vaccinated_per_hundred  \n",
      "57579                                  0.0  \n",
      "57580                                  0.0  \n",
      "57581                                  0.0  \n",
      "57582                                  0.0  \n",
      "57583                                  0.0  \n",
      "...                                    ...  \n",
      "58756                                  NaN  \n",
      "58757                                  NaN  \n",
      "58758                                  NaN  \n",
      "58759                                  NaN  \n",
      "58760                                  NaN  \n",
      "\n",
      "[1182 rows x 16 columns]\n"
     ]
    }
   ],
   "source": [
    "continenti_filtro1= vaccini.loc[vaccini [\"location\"]== \"European Union\"]\n",
    "print (continenti_filtro1)\n"
   ]
  },
  {
   "cell_type": "code",
   "execution_count": 39,
   "id": "d8353d2d-f5e2-4be8-bb63-e9b3190bc3dc",
   "metadata": {
    "tags": []
   },
   "outputs": [
    {
     "name": "stdout",
     "output_type": "stream",
     "text": [
      "848766546593.0\n"
     ]
    }
   ],
   "source": [
    "Vaccini_Europa=continenti_filtro1[\"total_vaccinations\"].sum ()\n",
    "print (Vaccini_Europa)"
   ]
  },
  {
   "cell_type": "code",
   "execution_count": 40,
   "id": "e4c47d16-b8e5-4ca8-8846-cd046c5d3bc5",
   "metadata": {
    "tags": []
   },
   "outputs": [
    {
     "name": "stdout",
     "output_type": "stream",
     "text": [
      "             location  iso_code        date  total_vaccinations  \\\n",
      "158070  South America  OWID_SAM  2020-12-24               420.0   \n",
      "158071  South America  OWID_SAM  2020-12-25              5199.0   \n",
      "158072  South America  OWID_SAM  2020-12-26              8339.0   \n",
      "158073  South America  OWID_SAM  2020-12-27              8648.0   \n",
      "158074  South America  OWID_SAM  2020-12-28              8648.0   \n",
      "...               ...       ...         ...                 ...   \n",
      "159195  South America  OWID_SAM  2024-01-23         964499309.0   \n",
      "159196  South America  OWID_SAM  2024-01-24         964513955.0   \n",
      "159197  South America  OWID_SAM  2024-01-25         964536988.0   \n",
      "159198  South America  OWID_SAM  2024-01-26         964560401.0   \n",
      "159199  South America  OWID_SAM  2024-01-27         964561963.0   \n",
      "\n",
      "        people_vaccinated  people_fully_vaccinated  total_boosters  \\\n",
      "158070              420.0                      NaN             NaN   \n",
      "158071             5199.0                      NaN             NaN   \n",
      "158072             8339.0                      NaN             NaN   \n",
      "158073             8648.0                      NaN             NaN   \n",
      "158074             8648.0                      NaN             NaN   \n",
      "...                   ...                      ...             ...   \n",
      "159195        375457666.0              336933616.0     257281088.0   \n",
      "159196        375458040.0              336933616.0     257295306.0   \n",
      "159197        375458602.0              336933616.0     257317691.0   \n",
      "159198        375459111.0              336933616.0     257340516.0   \n",
      "159199        375459127.0              336933616.0     257342055.0   \n",
      "\n",
      "        daily_vaccinations_raw  daily_vaccinations  \\\n",
      "158070                     0.0                 0.0   \n",
      "158071                  4779.0              4779.0   \n",
      "158072                  3140.0              3960.0   \n",
      "158073                   309.0              2743.0   \n",
      "158074                    51.0              2070.0   \n",
      "...                        ...                 ...   \n",
      "159195                 28818.0             16962.0   \n",
      "159196                 14646.0             16412.0   \n",
      "159197                 23033.0             16900.0   \n",
      "159198                 23413.0             16775.0   \n",
      "159199                  1562.0             16729.0   \n",
      "\n",
      "        total_vaccinations_per_hundred  people_vaccinated_per_hundred  \\\n",
      "158070                            0.00                           0.00   \n",
      "158071                            0.00                           0.00   \n",
      "158072                            0.00                           0.00   \n",
      "158073                            0.00                           0.00   \n",
      "158074                            0.00                           0.00   \n",
      "...                                ...                            ...   \n",
      "159195                          220.80                          85.95   \n",
      "159196                          220.81                          85.95   \n",
      "159197                          220.81                          85.95   \n",
      "159198                          220.82                          85.95   \n",
      "159199                          220.82                          85.95   \n",
      "\n",
      "        people_fully_vaccinated_per_hundred  total_boosters_per_hundred  \\\n",
      "158070                                  NaN                         NaN   \n",
      "158071                                  NaN                         NaN   \n",
      "158072                                  NaN                         NaN   \n",
      "158073                                  NaN                         NaN   \n",
      "158074                                  NaN                         NaN   \n",
      "...                                     ...                         ...   \n",
      "159195                                77.13                       58.90   \n",
      "159196                                77.13                       58.90   \n",
      "159197                                77.13                       58.91   \n",
      "159198                                77.13                       58.91   \n",
      "159199                                77.13                       58.91   \n",
      "\n",
      "        daily_vaccinations_per_million  daily_people_vaccinated  \\\n",
      "158070                             0.0                      0.0   \n",
      "158071                            11.0                   4779.0   \n",
      "158072                             9.0                   3960.0   \n",
      "158073                             6.0                   2743.0   \n",
      "158074                             5.0                   2070.0   \n",
      "...                                ...                      ...   \n",
      "159195                            39.0                    299.0   \n",
      "159196                            38.0                    309.0   \n",
      "159197                            39.0                    331.0   \n",
      "159198                            38.0                    348.0   \n",
      "159199                            38.0                    347.0   \n",
      "\n",
      "        daily_people_vaccinated_per_hundred  \n",
      "158070                                0.000  \n",
      "158071                                0.001  \n",
      "158072                                0.001  \n",
      "158073                                0.001  \n",
      "158074                                0.000  \n",
      "...                                     ...  \n",
      "159195                                0.000  \n",
      "159196                                0.000  \n",
      "159197                                0.000  \n",
      "159198                                0.000  \n",
      "159199                                0.000  \n",
      "\n",
      "[1130 rows x 16 columns]\n"
     ]
    }
   ],
   "source": [
    "continenti_filtro2= vaccini.loc[vaccini [\"location\"]== \"South America\"]\n",
    "print (continenti_filtro2)"
   ]
  },
  {
   "cell_type": "code",
   "execution_count": 42,
   "id": "7c6f8181-47be-4ff1-8b89-3a7385e25845",
   "metadata": {
    "tags": []
   },
   "outputs": [
    {
     "name": "stdout",
     "output_type": "stream",
     "text": [
      "781370718294.0\n"
     ]
    }
   ],
   "source": [
    "Vaccini_SouthAmerica=continenti_filtro2[\"total_vaccinations\"].sum ()\n",
    "print (Vaccini_SouthAmerica)"
   ]
  },
  {
   "cell_type": "code",
   "execution_count": 43,
   "id": "b5276ba4-16cc-4c95-bcac-984efb53b87b",
   "metadata": {
    "tags": []
   },
   "outputs": [
    {
     "name": "stdout",
     "output_type": "stream",
     "text": [
      "       location  iso_code        date  total_vaccinations  people_vaccinated  \\\n",
      "130475  Oceania  OWID_OCE  2021-02-02              3251.0             3251.0   \n",
      "130476  Oceania  OWID_OCE  2021-02-03              3251.0             3251.0   \n",
      "130477  Oceania  OWID_OCE  2021-02-04              3251.0             3251.0   \n",
      "130478  Oceania  OWID_OCE  2021-02-05              3251.0             3251.0   \n",
      "130479  Oceania  OWID_OCE  2021-02-06              3251.0             3251.0   \n",
      "...         ...       ...         ...                 ...                ...   \n",
      "131587  Oceania  OWID_OCE  2024-02-19          87553852.0         28960501.0   \n",
      "131588  Oceania  OWID_OCE  2024-02-20          87553852.0         28960501.0   \n",
      "131589  Oceania  OWID_OCE  2024-02-21          87553852.0         28960501.0   \n",
      "131590  Oceania  OWID_OCE  2024-02-22          87553852.0         28960501.0   \n",
      "131591  Oceania  OWID_OCE  2024-02-23          87558579.0         28960501.0   \n",
      "\n",
      "        people_fully_vaccinated  total_boosters  daily_vaccinations_raw  \\\n",
      "130475                      NaN             NaN                     0.0   \n",
      "130476                      NaN             NaN                   254.0   \n",
      "130477                      NaN             NaN                   254.0   \n",
      "130478                      NaN             NaN                   254.0   \n",
      "130479                      NaN             NaN                   254.0   \n",
      "...                         ...             ...                     ...   \n",
      "131587               28072902.0      24969290.0                   675.0   \n",
      "131588               28072902.0      24969290.0                   675.0   \n",
      "131589               28072902.0      24969290.0                   675.0   \n",
      "131590               28072902.0      24969290.0                   675.0   \n",
      "131591               28072902.0      24973629.0                     NaN   \n",
      "\n",
      "        daily_vaccinations  total_vaccinations_per_hundred  \\\n",
      "130475                 0.0                            0.01   \n",
      "130476               254.0                            0.01   \n",
      "130477               254.0                            0.01   \n",
      "130478               254.0                            0.01   \n",
      "130479               254.0                            0.01   \n",
      "...                    ...                             ...   \n",
      "131587               955.0                          194.40   \n",
      "131588               885.0                          194.40   \n",
      "131589               815.0                          194.40   \n",
      "131590               745.0                          194.40   \n",
      "131591                 NaN                          194.41   \n",
      "\n",
      "        people_vaccinated_per_hundred  people_fully_vaccinated_per_hundred  \\\n",
      "130475                           0.01                                  NaN   \n",
      "130476                           0.01                                  NaN   \n",
      "130477                           0.01                                  NaN   \n",
      "130478                           0.01                                  NaN   \n",
      "130479                           0.01                                  NaN   \n",
      "...                               ...                                  ...   \n",
      "131587                          64.30                                62.33   \n",
      "131588                          64.30                                62.33   \n",
      "131589                          64.30                                62.33   \n",
      "131590                          64.30                                62.33   \n",
      "131591                          64.30                                62.33   \n",
      "\n",
      "        total_boosters_per_hundred  daily_vaccinations_per_million  \\\n",
      "130475                         NaN                             0.0   \n",
      "130476                         NaN                             6.0   \n",
      "130477                         NaN                             6.0   \n",
      "130478                         NaN                             6.0   \n",
      "130479                         NaN                             6.0   \n",
      "...                            ...                             ...   \n",
      "131587                       55.44                            21.0   \n",
      "131588                       55.44                            20.0   \n",
      "131589                       55.44                            18.0   \n",
      "131590                       55.44                            17.0   \n",
      "131591                       55.45                             NaN   \n",
      "\n",
      "        daily_people_vaccinated  daily_people_vaccinated_per_hundred  \n",
      "130475                      0.0                                  0.0  \n",
      "130476                    202.0                                  0.0  \n",
      "130477                    202.0                                  0.0  \n",
      "130478                    202.0                                  0.0  \n",
      "130479                    202.0                                  0.0  \n",
      "...                         ...                                  ...  \n",
      "131587                      0.0                                  0.0  \n",
      "131588                      0.0                                  0.0  \n",
      "131589                      0.0                                  0.0  \n",
      "131590                      0.0                                  0.0  \n",
      "131591                      NaN                                  NaN  \n",
      "\n",
      "[1117 rows x 16 columns]\n"
     ]
    }
   ],
   "source": [
    "continenti_filtro3= vaccini.loc[vaccini [\"location\"]== \"Oceania\"]\n",
    "print (continenti_filtro3)"
   ]
  },
  {
   "cell_type": "code",
   "execution_count": 44,
   "id": "92d29d2f-f4fa-4992-beda-95ceacd579ee",
   "metadata": {
    "tags": []
   },
   "outputs": [
    {
     "name": "stdout",
     "output_type": "stream",
     "text": [
      "69244835290.0\n"
     ]
    }
   ],
   "source": [
    "Vaccini_Oceania=continenti_filtro3[\"total_vaccinations\"].sum ()\n",
    "print (Vaccini_Oceania)"
   ]
  },
  {
   "cell_type": "code",
   "execution_count": 45,
   "id": "92f356cb-8228-4ce8-86fe-6d0d36fad103",
   "metadata": {
    "tags": []
   },
   "outputs": [
    {
     "name": "stdout",
     "output_type": "stream",
     "text": [
      "69244835290.0 781370718294.0 848766546593.0\n"
     ]
    }
   ],
   "source": [
    "print (Vaccini_Oceania, Vaccini_SouthAmerica, Vaccini_Europa)"
   ]
  },
  {
   "cell_type": "code",
   "execution_count": 46,
   "id": "078d1c95-e417-40fb-b679-ceb32368b97c",
   "metadata": {
    "tags": []
   },
   "outputs": [
    {
     "name": "stdout",
     "output_type": "stream",
     "text": [
      "continent\n",
      "Africa           1.231687e+10\n",
      "Asia             1.994184e+11\n",
      "Europe           1.925590e+11\n",
      "North America    1.053041e+11\n",
      "Oceania          8.988719e+09\n",
      "South America    6.144397e+10\n",
      "Name: total_cases, dtype: float64\n"
     ]
    }
   ],
   "source": [
    "print (casi)"
   ]
  },
  {
   "cell_type": "markdown",
   "id": "e3cd4ef1-44e6-4144-8940-6d75cecf9ecb",
   "metadata": {},
   "source": []
  }
 ],
 "metadata": {
  "kernelspec": {
   "display_name": "Python 3 (ipykernel)",
   "language": "python",
   "name": "python3"
  },
  "language_info": {
   "codemirror_mode": {
    "name": "ipython",
    "version": 3
   },
   "file_extension": ".py",
   "mimetype": "text/x-python",
   "name": "python",
   "nbconvert_exporter": "python",
   "pygments_lexer": "ipython3",
   "version": "3.11.5"
  }
 },
 "nbformat": 4,
 "nbformat_minor": 5
}
